{
  "nbformat": 4,
  "nbformat_minor": 0,
  "metadata": {
    "colab": {
      "provenance": [],
      "authorship_tag": "ABX9TyN0LL28fKWXiucE2odIMAMX",
      "include_colab_link": true
    },
    "kernelspec": {
      "name": "python3",
      "display_name": "Python 3"
    },
    "language_info": {
      "name": "python"
    }
  },
  "cells": [
    {
      "cell_type": "markdown",
      "metadata": {
        "id": "view-in-github",
        "colab_type": "text"
      },
      "source": [
        "<a href=\"https://colab.research.google.com/github/Fedoseevale/Statistica_Homework5/blob/main/Statistica_Homework5.ipynb\" target=\"_parent\"><img src=\"https://colab.research.google.com/assets/colab-badge.svg\" alt=\"Open In Colab\"/></a>"
      ]
    },
    {
      "cell_type": "markdown",
      "source": [
        "4.Есть ли статистически значимые различия в росте дочерей?\n",
        "\n",
        "Рост матерей 172, 177, 158, 170, 178,175, 164, 160, 169, 165\n",
        "\n",
        "Рост взрослых дочерей: 173, 175, 162, 174, 175, 168, 155, 170, 160, 166"
      ],
      "metadata": {
        "id": "j1DrvNYNFZLX"
      }
    },
    {
      "cell_type": "code",
      "execution_count": 1,
      "metadata": {
        "id": "H_E5Y8-z1NLh"
      },
      "outputs": [],
      "source": [
        "import numpy as np\n",
        "import scipy.stats as stats"
      ]
    },
    {
      "cell_type": "code",
      "source": [
        "x = np.array([172, 177, 158, 170, 178,175, 164, 160, 169, 165])\n",
        "y = np.array([173, 175, 162, 174, 175, 168, 155, 170, 160, 166])"
      ],
      "metadata": {
        "id": "nul1QG7z39-o"
      },
      "execution_count": 3,
      "outputs": []
    },
    {
      "cell_type": "code",
      "source": [
        "x"
      ],
      "metadata": {
        "colab": {
          "base_uri": "https://localhost:8080/"
        },
        "id": "5-sJZEoK43mB",
        "outputId": "7c37880f-be45-4d65-8e73-a1369d8c40be"
      },
      "execution_count": 4,
      "outputs": [
        {
          "output_type": "execute_result",
          "data": {
            "text/plain": [
              "array([172, 177, 158, 170, 178, 175, 164, 160, 169, 165])"
            ]
          },
          "metadata": {},
          "execution_count": 4
        }
      ]
    },
    {
      "cell_type": "code",
      "source": [
        "y"
      ],
      "metadata": {
        "colab": {
          "base_uri": "https://localhost:8080/"
        },
        "id": "9XHMsOE948mo",
        "outputId": "7000ebe1-1101-4652-b103-370ad5b3b083"
      },
      "execution_count": 5,
      "outputs": [
        {
          "output_type": "execute_result",
          "data": {
            "text/plain": [
              "array([173, 175, 162, 174, 175, 168, 155, 170, 160, 166])"
            ]
          },
          "metadata": {},
          "execution_count": 5
        }
      ]
    },
    {
      "cell_type": "code",
      "source": [
        "stats.ttest_rel(x, y)"
      ],
      "metadata": {
        "colab": {
          "base_uri": "https://localhost:8080/"
        },
        "id": "AiCH1qim4-pQ",
        "outputId": "df694dfb-9d68-4dab-dc8d-a7ed98694745"
      },
      "execution_count": 9,
      "outputs": [
        {
          "output_type": "execute_result",
          "data": {
            "text/plain": [
              "TtestResult(statistic=0.5085476277156078, pvalue=0.6233004208054671, df=9)"
            ]
          },
          "metadata": {},
          "execution_count": 9
        }
      ]
    },
    {
      "cell_type": "markdown",
      "source": [
        "p-value < 0,05 (уровень статистической значимости), следовательно ***статистические значимые различия в росте дочерей отсутствуют***\n",
        "\n"
      ],
      "metadata": {
        "id": "JeX2IartE_k1"
      }
    }
  ]
}